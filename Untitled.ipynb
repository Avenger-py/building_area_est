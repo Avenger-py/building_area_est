{
 "cells": [
  {
   "cell_type": "code",
   "execution_count": 1,
   "id": "9f10fc79",
   "metadata": {},
   "outputs": [],
   "source": [
    "#from mrcnn import utils\n",
    "import numpy as np\n",
    "\n",
    "from pycocotools.coco import COCO\n",
    "from pycocotools.cocoeval import COCOeval\n",
    "from pycocotools import mask as maskUtils\n",
    "from tqdm import tqdm\n",
    "import os\n",
    "import shutil"
   ]
  },
  {
   "cell_type": "code",
   "execution_count": 2,
   "id": "bbc28f3c",
   "metadata": {},
   "outputs": [
    {
     "name": "stdout",
     "output_type": "stream",
     "text": [
      "loading annotations into memory...\n",
      "Done (t=0.55s)\n",
      "creating index...\n",
      "index created!\n",
      "8366\n"
     ]
    }
   ],
   "source": [
    "dataset_dir=os.path.join(\"data\", \"train\")\n",
    "annotation_path = os.path.join(dataset_dir, \"annotation-small.json\")\n",
    "\n",
    "coco = COCO(annotation_path)\n",
    "image_dir = os.path.join(dataset_dir, \"images\")\n",
    "print(len(coco.imgs))\n",
    "\n",
    "# # Load all images\n",
    "# image_ids = list(coco.imgs.keys())\n",
    "\n",
    "# img_list = os.listdir(image_dir)\n",
    "# img_subset = [i for i in img_list if int(i[:-4]) in image_ids]\n",
    "# #print(len(img_subset))\n",
    "# num = 50\n",
    "# img_subset = img_subset[:num]\n",
    "# len(img_subset)\n",
    "\n",
    "\n"
   ]
  },
  {
   "cell_type": "code",
   "execution_count": 5,
   "id": "20c08b61",
   "metadata": {},
   "outputs": [
    {
     "data": {
      "text/plain": [
       "['__class__',\n",
       " '__delattr__',\n",
       " '__dict__',\n",
       " '__dir__',\n",
       " '__doc__',\n",
       " '__eq__',\n",
       " '__format__',\n",
       " '__ge__',\n",
       " '__getattribute__',\n",
       " '__gt__',\n",
       " '__hash__',\n",
       " '__init__',\n",
       " '__init_subclass__',\n",
       " '__le__',\n",
       " '__lt__',\n",
       " '__module__',\n",
       " '__ne__',\n",
       " '__new__',\n",
       " '__reduce__',\n",
       " '__reduce_ex__',\n",
       " '__repr__',\n",
       " '__setattr__',\n",
       " '__sizeof__',\n",
       " '__str__',\n",
       " '__subclasshook__',\n",
       " '__weakref__',\n",
       " 'annToMask',\n",
       " 'annToRLE',\n",
       " 'anns',\n",
       " 'catToImgs',\n",
       " 'cats',\n",
       " 'createIndex',\n",
       " 'dataset',\n",
       " 'download',\n",
       " 'getAnnIds',\n",
       " 'getCatIds',\n",
       " 'getImgIds',\n",
       " 'imgToAnns',\n",
       " 'imgs',\n",
       " 'info',\n",
       " 'loadAnns',\n",
       " 'loadCats',\n",
       " 'loadImgs',\n",
       " 'loadNumpyAnnotations',\n",
       " 'loadRes',\n",
       " 'showAnns']"
      ]
     },
     "execution_count": 5,
     "metadata": {},
     "output_type": "execute_result"
    }
   ],
   "source": [
    "dir(coco)"
   ]
  },
  {
   "cell_type": "code",
   "execution_count": 4,
   "id": "42014839",
   "metadata": {},
   "outputs": [
    {
     "name": "stderr",
     "output_type": "stream",
     "text": [
      "100%|██████████| 71871/71871 [00:00<00:00, 669365.66it/s]\n"
     ]
    },
    {
     "data": {
      "text/plain": [
       "(90000.0,\n",
       " (1129341,\n",
       "  {'id': 1129341,\n",
       "   'image_id': 132578,\n",
       "   'segmentation': [[300.0,\n",
       "     -2.842170943040401e-14,\n",
       "     300.0,\n",
       "     300.0,\n",
       "     1.8369701987210297e-14,\n",
       "     300.0,\n",
       "     -1.8369701987210297e-14,\n",
       "     2.842170943040401e-14,\n",
       "     300.0,\n",
       "     -2.842170943040401e-14]],\n",
       "   'area': 90000.0,\n",
       "   'bbox': [-2.842170943040401e-14, -1.8369701987210297e-14, 300.0, 300.0],\n",
       "   'category_id': 100,\n",
       "   'iscrowd': 0}))"
      ]
     },
     "execution_count": 4,
     "metadata": {},
     "output_type": "execute_result"
    }
   ],
   "source": [
    "anns = coco.anns\n",
    "len(anns)\n",
    "max_area = 0.0\n",
    "max_area_id = 0\n",
    "for i in tqdm(anns.items()):\n",
    "    if i[1]['area']>max_area:\n",
    "        max_area = i[1]['area']\n",
    "        max_area_id = i\n",
    "\n",
    "max_area, max_area_id"
   ]
  },
  {
   "cell_type": "code",
   "execution_count": 46,
   "id": "d5eb7548",
   "metadata": {},
   "outputs": [],
   "source": [
    "for img in image_subset:\n",
    "    full_path = os.path.join(image_dir, img)\n",
    "    dest = os.path.join(\"data\", \"train_50\", \"images\")\n",
    "    if os.path.isfile(full_path):\n",
    "        shutil.copy(full_path, dest)\n",
    "    "
   ]
  },
  {
   "cell_type": "code",
   "execution_count": 40,
   "id": "e67ca123",
   "metadata": {},
   "outputs": [
    {
     "data": {
      "text/plain": [
       "'data/train_100/images'"
      ]
     },
     "execution_count": 40,
     "metadata": {},
     "output_type": "execute_result"
    }
   ],
   "source": []
  }
 ],
 "metadata": {
  "kernelspec": {
   "display_name": "Python [conda env:venv3] *",
   "language": "python",
   "name": "conda-env-venv3-py"
  },
  "language_info": {
   "codemirror_mode": {
    "name": "ipython",
    "version": 3
   },
   "file_extension": ".py",
   "mimetype": "text/x-python",
   "name": "python",
   "nbconvert_exporter": "python",
   "pygments_lexer": "ipython3",
   "version": "3.6.2"
  }
 },
 "nbformat": 4,
 "nbformat_minor": 5
}
